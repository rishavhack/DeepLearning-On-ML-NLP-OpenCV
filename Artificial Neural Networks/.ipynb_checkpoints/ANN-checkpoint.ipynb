{
 "cells": [
  {
   "cell_type": "code",
   "execution_count": 3,
   "metadata": {},
   "outputs": [],
   "source": [
    "import numpy as np\n",
    "import matplotlib.pyplot as plt\n",
    "import pandas as pd"
   ]
  },
  {
   "cell_type": "code",
   "execution_count": 4,
   "metadata": {},
   "outputs": [],
   "source": [
    "dataset = pd.read_csv('Churn_Modelling.csv')"
   ]
  },
  {
   "cell_type": "code",
   "execution_count": 5,
   "metadata": {},
   "outputs": [
    {
     "data": {
      "text/html": [
       "<div>\n",
       "<style scoped>\n",
       "    .dataframe tbody tr th:only-of-type {\n",
       "        vertical-align: middle;\n",
       "    }\n",
       "\n",
       "    .dataframe tbody tr th {\n",
       "        vertical-align: top;\n",
       "    }\n",
       "\n",
       "    .dataframe thead th {\n",
       "        text-align: right;\n",
       "    }\n",
       "</style>\n",
       "<table border=\"1\" class=\"dataframe\">\n",
       "  <thead>\n",
       "    <tr style=\"text-align: right;\">\n",
       "      <th></th>\n",
       "      <th>RowNumber</th>\n",
       "      <th>CustomerId</th>\n",
       "      <th>Surname</th>\n",
       "      <th>CreditScore</th>\n",
       "      <th>Geography</th>\n",
       "      <th>Gender</th>\n",
       "      <th>Age</th>\n",
       "      <th>Tenure</th>\n",
       "      <th>Balance</th>\n",
       "      <th>NumOfProducts</th>\n",
       "      <th>HasCrCard</th>\n",
       "      <th>IsActiveMember</th>\n",
       "      <th>EstimatedSalary</th>\n",
       "      <th>Exited</th>\n",
       "    </tr>\n",
       "  </thead>\n",
       "  <tbody>\n",
       "    <tr>\n",
       "      <th>0</th>\n",
       "      <td>1</td>\n",
       "      <td>15634602</td>\n",
       "      <td>Hargrave</td>\n",
       "      <td>619</td>\n",
       "      <td>France</td>\n",
       "      <td>Female</td>\n",
       "      <td>42</td>\n",
       "      <td>2</td>\n",
       "      <td>0.00</td>\n",
       "      <td>1</td>\n",
       "      <td>1</td>\n",
       "      <td>1</td>\n",
       "      <td>101348.88</td>\n",
       "      <td>1</td>\n",
       "    </tr>\n",
       "    <tr>\n",
       "      <th>1</th>\n",
       "      <td>2</td>\n",
       "      <td>15647311</td>\n",
       "      <td>Hill</td>\n",
       "      <td>608</td>\n",
       "      <td>Spain</td>\n",
       "      <td>Female</td>\n",
       "      <td>41</td>\n",
       "      <td>1</td>\n",
       "      <td>83807.86</td>\n",
       "      <td>1</td>\n",
       "      <td>0</td>\n",
       "      <td>1</td>\n",
       "      <td>112542.58</td>\n",
       "      <td>0</td>\n",
       "    </tr>\n",
       "    <tr>\n",
       "      <th>2</th>\n",
       "      <td>3</td>\n",
       "      <td>15619304</td>\n",
       "      <td>Onio</td>\n",
       "      <td>502</td>\n",
       "      <td>France</td>\n",
       "      <td>Female</td>\n",
       "      <td>42</td>\n",
       "      <td>8</td>\n",
       "      <td>159660.80</td>\n",
       "      <td>3</td>\n",
       "      <td>1</td>\n",
       "      <td>0</td>\n",
       "      <td>113931.57</td>\n",
       "      <td>1</td>\n",
       "    </tr>\n",
       "    <tr>\n",
       "      <th>3</th>\n",
       "      <td>4</td>\n",
       "      <td>15701354</td>\n",
       "      <td>Boni</td>\n",
       "      <td>699</td>\n",
       "      <td>France</td>\n",
       "      <td>Female</td>\n",
       "      <td>39</td>\n",
       "      <td>1</td>\n",
       "      <td>0.00</td>\n",
       "      <td>2</td>\n",
       "      <td>0</td>\n",
       "      <td>0</td>\n",
       "      <td>93826.63</td>\n",
       "      <td>0</td>\n",
       "    </tr>\n",
       "    <tr>\n",
       "      <th>4</th>\n",
       "      <td>5</td>\n",
       "      <td>15737888</td>\n",
       "      <td>Mitchell</td>\n",
       "      <td>850</td>\n",
       "      <td>Spain</td>\n",
       "      <td>Female</td>\n",
       "      <td>43</td>\n",
       "      <td>2</td>\n",
       "      <td>125510.82</td>\n",
       "      <td>1</td>\n",
       "      <td>1</td>\n",
       "      <td>1</td>\n",
       "      <td>79084.10</td>\n",
       "      <td>0</td>\n",
       "    </tr>\n",
       "  </tbody>\n",
       "</table>\n",
       "</div>"
      ],
      "text/plain": [
       "   RowNumber  CustomerId   Surname  CreditScore Geography  Gender  Age  \\\n",
       "0          1    15634602  Hargrave          619    France  Female   42   \n",
       "1          2    15647311      Hill          608     Spain  Female   41   \n",
       "2          3    15619304      Onio          502    France  Female   42   \n",
       "3          4    15701354      Boni          699    France  Female   39   \n",
       "4          5    15737888  Mitchell          850     Spain  Female   43   \n",
       "\n",
       "   Tenure    Balance  NumOfProducts  HasCrCard  IsActiveMember  \\\n",
       "0       2       0.00              1          1               1   \n",
       "1       1   83807.86              1          0               1   \n",
       "2       8  159660.80              3          1               0   \n",
       "3       1       0.00              2          0               0   \n",
       "4       2  125510.82              1          1               1   \n",
       "\n",
       "   EstimatedSalary  Exited  \n",
       "0        101348.88       1  \n",
       "1        112542.58       0  \n",
       "2        113931.57       1  \n",
       "3         93826.63       0  \n",
       "4         79084.10       0  "
      ]
     },
     "execution_count": 5,
     "metadata": {},
     "output_type": "execute_result"
    }
   ],
   "source": [
    "dataset.head()"
   ]
  },
  {
   "cell_type": "code",
   "execution_count": 6,
   "metadata": {},
   "outputs": [],
   "source": [
    "X = dataset.iloc[:, 3:13].values\n",
    "y = dataset.iloc[:,13].values"
   ]
  },
  {
   "cell_type": "code",
   "execution_count": 9,
   "metadata": {},
   "outputs": [
    {
     "data": {
      "text/plain": [
       "array([619, 'France', 'Female', 42, 2, 0.0, 1, 1, 1, 101348.88],\n",
       "      dtype=object)"
      ]
     },
     "execution_count": 9,
     "metadata": {},
     "output_type": "execute_result"
    }
   ],
   "source": [
    "X[0]"
   ]
  },
  {
   "cell_type": "code",
   "execution_count": 10,
   "metadata": {},
   "outputs": [
    {
     "data": {
      "text/plain": [
       "1"
      ]
     },
     "execution_count": 10,
     "metadata": {},
     "output_type": "execute_result"
    }
   ],
   "source": [
    "y[0]"
   ]
  },
  {
   "cell_type": "code",
   "execution_count": 11,
   "metadata": {},
   "outputs": [],
   "source": [
    "from sklearn.preprocessing import LabelEncoder,OneHotEncoder\n",
    "labelencoder_X_1 = LabelEncoder()\n",
    "labelencoder_X_2 = LabelEncoder()"
   ]
  },
  {
   "cell_type": "code",
   "execution_count": 12,
   "metadata": {},
   "outputs": [],
   "source": [
    "X[:,1] = labelencoder_X_1.fit_transform(X[:,1])\n",
    "X[:,2] = labelencoder_X_2.fit_transform(X[:,2])"
   ]
  },
  {
   "cell_type": "code",
   "execution_count": 13,
   "metadata": {},
   "outputs": [
    {
     "name": "stderr",
     "output_type": "stream",
     "text": [
      "/Users/rishav/anaconda2/envs/tensorflow_env/lib/python3.6/site-packages/sklearn/preprocessing/_encoders.py:371: FutureWarning: The handling of integer data will change in version 0.22. Currently, the categories are determined based on the range [0, max(values)], while in the future they will be determined based on the unique values.\n",
      "If you want the future behaviour and silence this warning, you can specify \"categories='auto'\".\n",
      "In case you used a LabelEncoder before this OneHotEncoder to convert the categories to integers, then you can now use the OneHotEncoder directly.\n",
      "  warnings.warn(msg, FutureWarning)\n"
     ]
    }
   ],
   "source": [
    "onehotencoder = OneHotEncoder(categorical_features=[1])\n",
    "X = onehotencoder.fit_transform(X).toarray()\n",
    "X = X[:,1:]"
   ]
  },
  {
   "cell_type": "code",
   "execution_count": 14,
   "metadata": {},
   "outputs": [
    {
     "data": {
      "text/plain": [
       "array([0.0000000e+00, 0.0000000e+00, 6.1900000e+02, 0.0000000e+00,\n",
       "       4.2000000e+01, 2.0000000e+00, 0.0000000e+00, 1.0000000e+00,\n",
       "       1.0000000e+00, 1.0000000e+00, 1.0134888e+05])"
      ]
     },
     "execution_count": 14,
     "metadata": {},
     "output_type": "execute_result"
    }
   ],
   "source": [
    "X[0]"
   ]
  },
  {
   "cell_type": "code",
   "execution_count": 15,
   "metadata": {},
   "outputs": [],
   "source": [
    "from sklearn.model_selection import train_test_split"
   ]
  },
  {
   "cell_type": "code",
   "execution_count": 17,
   "metadata": {},
   "outputs": [],
   "source": [
    "X_train, X_test, y_train, y_test = train_test_split(X, y, test_size=0.2, random_state=0)"
   ]
  },
  {
   "cell_type": "code",
   "execution_count": 18,
   "metadata": {},
   "outputs": [],
   "source": [
    "from sklearn.preprocessing import StandardScaler\n",
    "sc = StandardScaler()\n",
    "X_train = sc.fit_transform(X_train)\n",
    "X_test = sc.fit_transform(X_test)"
   ]
  },
  {
   "cell_type": "code",
   "execution_count": 19,
   "metadata": {},
   "outputs": [
    {
     "name": "stderr",
     "output_type": "stream",
     "text": [
      "Using TensorFlow backend.\n"
     ]
    }
   ],
   "source": [
    "import keras"
   ]
  },
  {
   "cell_type": "code",
   "execution_count": 20,
   "metadata": {},
   "outputs": [],
   "source": [
    "from keras.models import Sequential\n",
    "from keras.layers import Dense"
   ]
  },
  {
   "cell_type": "code",
   "execution_count": 21,
   "metadata": {},
   "outputs": [],
   "source": [
    "#Initialising the ANN\n",
    "classifier = Sequential()"
   ]
  },
  {
   "cell_type": "code",
   "execution_count": 22,
   "metadata": {},
   "outputs": [
    {
     "name": "stderr",
     "output_type": "stream",
     "text": [
      "/Users/rishav/anaconda2/envs/tensorflow_env/lib/python3.6/site-packages/ipykernel_launcher.py:2: UserWarning: Update your `Dense` call to the Keras 2 API: `Dense(activation=\"relu\", input_dim=11, units=6, kernel_initializer=\"uniform\")`\n",
      "  \n"
     ]
    }
   ],
   "source": [
    "#Adding the input layer and the first hidden layer\n",
    "classifier.add(Dense(output_dim = 6,init = 'uniform',activation = 'relu', input_dim = 11))"
   ]
  },
  {
   "cell_type": "code",
   "execution_count": 23,
   "metadata": {},
   "outputs": [
    {
     "name": "stderr",
     "output_type": "stream",
     "text": [
      "/Users/rishav/anaconda2/envs/tensorflow_env/lib/python3.6/site-packages/ipykernel_launcher.py:2: UserWarning: Update your `Dense` call to the Keras 2 API: `Dense(activation=\"relu\", units=6, kernel_initializer=\"uniform\")`\n",
      "  \n"
     ]
    }
   ],
   "source": [
    "#Adding the secind hidden layer\n",
    "classifier.add(Dense(output_dim = 6,init = 'uniform',activation = 'relu'))"
   ]
  },
  {
   "cell_type": "code",
   "execution_count": 24,
   "metadata": {},
   "outputs": [
    {
     "name": "stderr",
     "output_type": "stream",
     "text": [
      "/Users/rishav/anaconda2/envs/tensorflow_env/lib/python3.6/site-packages/ipykernel_launcher.py:3: UserWarning: Update your `Dense` call to the Keras 2 API: `Dense(activation=\"sigmoid\", units=1, kernel_initializer=\"uniform\")`\n",
      "  This is separate from the ipykernel package so we can avoid doing imports until\n"
     ]
    }
   ],
   "source": [
    "#Adding the output layer\n",
    "#If output is 3 then output_dim=3 , activation also we have to change\n",
    "classifier.add(Dense(output_dim = 1,init = 'uniform',activation = 'sigmoid'))"
   ]
  },
  {
   "cell_type": "code",
   "execution_count": 25,
   "metadata": {},
   "outputs": [],
   "source": [
    "#Compiling the Ann\n",
    "classifier.compile(optimizer='adam',loss='binary_crossentropy', metrics = ['accuracy'])"
   ]
  },
  {
   "cell_type": "code",
   "execution_count": 26,
   "metadata": {},
   "outputs": [
    {
     "name": "stderr",
     "output_type": "stream",
     "text": [
      "/Users/rishav/anaconda2/envs/tensorflow_env/lib/python3.6/site-packages/ipykernel_launcher.py:2: UserWarning: The `nb_epoch` argument in `fit` has been renamed `epochs`.\n",
      "  \n"
     ]
    },
    {
     "name": "stdout",
     "output_type": "stream",
     "text": [
      "Epoch 1/100\n",
      "8000/8000 [==============================] - 1s 156us/step - loss: 0.4922 - acc: 0.7955\n",
      "Epoch 2/100\n",
      "8000/8000 [==============================] - 1s 109us/step - loss: 0.4170 - acc: 0.8222\n",
      "Epoch 3/100\n",
      "8000/8000 [==============================] - 1s 112us/step - loss: 0.4028 - acc: 0.8292\n",
      "Epoch 4/100\n",
      "8000/8000 [==============================] - 1s 109us/step - loss: 0.3917 - acc: 0.8295\n",
      "Epoch 5/100\n",
      "8000/8000 [==============================] - 1s 108us/step - loss: 0.3848 - acc: 0.8311\n",
      "Epoch 6/100\n",
      "8000/8000 [==============================] - 1s 107us/step - loss: 0.3794 - acc: 0.8309\n",
      "Epoch 7/100\n",
      "8000/8000 [==============================] - 1s 111us/step - loss: 0.3758 - acc: 0.8399\n",
      "Epoch 8/100\n",
      "8000/8000 [==============================] - 1s 114us/step - loss: 0.3728 - acc: 0.8445\n",
      "Epoch 9/100\n",
      "8000/8000 [==============================] - 1s 110us/step - loss: 0.3700 - acc: 0.8464\n",
      "Epoch 10/100\n",
      "8000/8000 [==============================] - 1s 106us/step - loss: 0.3683 - acc: 0.8477\n",
      "Epoch 11/100\n",
      "8000/8000 [==============================] - 1s 105us/step - loss: 0.3661 - acc: 0.8515\n",
      "Epoch 12/100\n",
      "8000/8000 [==============================] - 1s 109us/step - loss: 0.3636 - acc: 0.8520\n",
      "Epoch 13/100\n",
      "8000/8000 [==============================] - 1s 106us/step - loss: 0.3616 - acc: 0.8509\n",
      "Epoch 14/100\n",
      "8000/8000 [==============================] - 1s 106us/step - loss: 0.3602 - acc: 0.8536\n",
      "Epoch 15/100\n",
      "8000/8000 [==============================] - 1s 106us/step - loss: 0.3591 - acc: 0.8526\n",
      "Epoch 16/100\n",
      "8000/8000 [==============================] - 1s 106us/step - loss: 0.3567 - acc: 0.8534\n",
      "Epoch 17/100\n",
      "8000/8000 [==============================] - 1s 105us/step - loss: 0.3562 - acc: 0.8545\n",
      "Epoch 18/100\n",
      "8000/8000 [==============================] - 1s 108us/step - loss: 0.3542 - acc: 0.8539\n",
      "Epoch 19/100\n",
      "8000/8000 [==============================] - 1s 107us/step - loss: 0.3534 - acc: 0.8537\n",
      "Epoch 20/100\n",
      "8000/8000 [==============================] - 1s 106us/step - loss: 0.3523 - acc: 0.8562\n",
      "Epoch 21/100\n",
      "8000/8000 [==============================] - 1s 105us/step - loss: 0.3522 - acc: 0.8551\n",
      "Epoch 22/100\n",
      "8000/8000 [==============================] - 1s 106us/step - loss: 0.3504 - acc: 0.8562\n",
      "Epoch 23/100\n",
      "8000/8000 [==============================] - 1s 105us/step - loss: 0.3503 - acc: 0.8536\n",
      "Epoch 24/100\n",
      "8000/8000 [==============================] - 1s 105us/step - loss: 0.3496 - acc: 0.8549\n",
      "Epoch 25/100\n",
      "8000/8000 [==============================] - 1s 110us/step - loss: 0.3484 - acc: 0.8576\n",
      "Epoch 26/100\n",
      "8000/8000 [==============================] - 1s 107us/step - loss: 0.3477 - acc: 0.8566\n",
      "Epoch 27/100\n",
      "8000/8000 [==============================] - 1s 107us/step - loss: 0.3479 - acc: 0.8589\n",
      "Epoch 28/100\n",
      "8000/8000 [==============================] - 1s 109us/step - loss: 0.3474 - acc: 0.8584\n",
      "Epoch 29/100\n",
      "8000/8000 [==============================] - 1s 106us/step - loss: 0.3456 - acc: 0.8561\n",
      "Epoch 30/100\n",
      "8000/8000 [==============================] - 1s 106us/step - loss: 0.3455 - acc: 0.8582\n",
      "Epoch 31/100\n",
      "8000/8000 [==============================] - 1s 106us/step - loss: 0.3453 - acc: 0.8585\n",
      "Epoch 32/100\n",
      "8000/8000 [==============================] - 1s 108us/step - loss: 0.3456 - acc: 0.8580\n",
      "Epoch 33/100\n",
      "8000/8000 [==============================] - 1s 107us/step - loss: 0.3447 - acc: 0.8570\n",
      "Epoch 34/100\n",
      "8000/8000 [==============================] - 1s 106us/step - loss: 0.3445 - acc: 0.8581\n",
      "Epoch 35/100\n",
      "8000/8000 [==============================] - 1s 106us/step - loss: 0.3443 - acc: 0.8595\n",
      "Epoch 36/100\n",
      "8000/8000 [==============================] - 1s 104us/step - loss: 0.3438 - acc: 0.8597\n",
      "Epoch 37/100\n",
      "8000/8000 [==============================] - 1s 114us/step - loss: 0.3434 - acc: 0.8592\n",
      "Epoch 38/100\n",
      "8000/8000 [==============================] - 1s 114us/step - loss: 0.3430 - acc: 0.8594\n",
      "Epoch 39/100\n",
      "8000/8000 [==============================] - 1s 109us/step - loss: 0.3426 - acc: 0.8601\n",
      "Epoch 40/100\n",
      "8000/8000 [==============================] - 1s 107us/step - loss: 0.3421 - acc: 0.8589\n",
      "Epoch 41/100\n",
      "8000/8000 [==============================] - 1s 107us/step - loss: 0.3417 - acc: 0.8592\n",
      "Epoch 42/100\n",
      "8000/8000 [==============================] - 1s 112us/step - loss: 0.3425 - acc: 0.8616\n",
      "Epoch 43/100\n",
      "8000/8000 [==============================] - 1s 114us/step - loss: 0.3413 - acc: 0.8599\n",
      "Epoch 44/100\n",
      "8000/8000 [==============================] - 1s 106us/step - loss: 0.3407 - acc: 0.8600\n",
      "Epoch 45/100\n",
      "8000/8000 [==============================] - 1s 109us/step - loss: 0.3410 - acc: 0.8601\n",
      "Epoch 46/100\n",
      "8000/8000 [==============================] - 1s 105us/step - loss: 0.3406 - acc: 0.8597\n",
      "Epoch 47/100\n",
      "8000/8000 [==============================] - 1s 105us/step - loss: 0.3409 - acc: 0.8599\n",
      "Epoch 48/100\n",
      "8000/8000 [==============================] - 1s 105us/step - loss: 0.3400 - acc: 0.8602\n",
      "Epoch 49/100\n",
      "8000/8000 [==============================] - 1s 105us/step - loss: 0.3414 - acc: 0.8604\n",
      "Epoch 50/100\n",
      "8000/8000 [==============================] - 1s 105us/step - loss: 0.3399 - acc: 0.8620\n",
      "Epoch 51/100\n",
      "8000/8000 [==============================] - 1s 105us/step - loss: 0.3407 - acc: 0.8602\n",
      "Epoch 52/100\n",
      "8000/8000 [==============================] - 1s 104us/step - loss: 0.3393 - acc: 0.8629\n",
      "Epoch 53/100\n",
      "8000/8000 [==============================] - 1s 104us/step - loss: 0.3394 - acc: 0.8615\n",
      "Epoch 54/100\n",
      "8000/8000 [==============================] - 1s 104us/step - loss: 0.3397 - acc: 0.8599\n",
      "Epoch 55/100\n",
      "8000/8000 [==============================] - 1s 104us/step - loss: 0.3395 - acc: 0.8609\n",
      "Epoch 56/100\n",
      "8000/8000 [==============================] - 1s 104us/step - loss: 0.3393 - acc: 0.8610\n",
      "Epoch 57/100\n",
      "8000/8000 [==============================] - 1s 104us/step - loss: 0.3402 - acc: 0.8577\n",
      "Epoch 58/100\n",
      "8000/8000 [==============================] - 1s 105us/step - loss: 0.3396 - acc: 0.8607\n",
      "Epoch 59/100\n",
      "8000/8000 [==============================] - 1s 104us/step - loss: 0.3384 - acc: 0.8644\n",
      "Epoch 60/100\n",
      "8000/8000 [==============================] - 1s 105us/step - loss: 0.3383 - acc: 0.8620\n",
      "Epoch 61/100\n",
      "8000/8000 [==============================] - 1s 105us/step - loss: 0.3389 - acc: 0.8626\n",
      "Epoch 62/100\n",
      "8000/8000 [==============================] - 1s 105us/step - loss: 0.3389 - acc: 0.8607\n",
      "Epoch 63/100\n",
      "8000/8000 [==============================] - 1s 105us/step - loss: 0.3383 - acc: 0.8614\n",
      "Epoch 64/100\n",
      "8000/8000 [==============================] - 1s 105us/step - loss: 0.3380 - acc: 0.8611\n",
      "Epoch 65/100\n",
      "8000/8000 [==============================] - 1s 105us/step - loss: 0.3378 - acc: 0.8619\n",
      "Epoch 66/100\n",
      "8000/8000 [==============================] - 1s 105us/step - loss: 0.3381 - acc: 0.8614\n",
      "Epoch 67/100\n",
      "8000/8000 [==============================] - 1s 105us/step - loss: 0.3376 - acc: 0.8605\n",
      "Epoch 68/100\n",
      "8000/8000 [==============================] - 1s 105us/step - loss: 0.3379 - acc: 0.8594\n",
      "Epoch 69/100\n",
      "8000/8000 [==============================] - 1s 105us/step - loss: 0.3380 - acc: 0.8599\n",
      "Epoch 70/100\n",
      "8000/8000 [==============================] - 1s 104us/step - loss: 0.3368 - acc: 0.8630\n",
      "Epoch 71/100\n",
      "8000/8000 [==============================] - 1s 105us/step - loss: 0.3378 - acc: 0.8609\n",
      "Epoch 72/100\n",
      "8000/8000 [==============================] - 1s 105us/step - loss: 0.3379 - acc: 0.8607\n",
      "Epoch 73/100\n",
      "8000/8000 [==============================] - 1s 106us/step - loss: 0.3377 - acc: 0.8601\n",
      "Epoch 74/100\n",
      "8000/8000 [==============================] - 1s 105us/step - loss: 0.3376 - acc: 0.8619\n",
      "Epoch 75/100\n",
      "8000/8000 [==============================] - 1s 105us/step - loss: 0.3364 - acc: 0.8614\n",
      "Epoch 76/100\n",
      "8000/8000 [==============================] - 1s 105us/step - loss: 0.3373 - acc: 0.8610\n",
      "Epoch 77/100\n",
      "8000/8000 [==============================] - 1s 105us/step - loss: 0.3375 - acc: 0.8609\n",
      "Epoch 78/100\n",
      "8000/8000 [==============================] - 1s 104us/step - loss: 0.3370 - acc: 0.8604\n",
      "Epoch 79/100\n",
      "8000/8000 [==============================] - 1s 105us/step - loss: 0.3360 - acc: 0.8634\n",
      "Epoch 80/100\n",
      "8000/8000 [==============================] - 1s 105us/step - loss: 0.3372 - acc: 0.8614\n",
      "Epoch 81/100\n",
      "8000/8000 [==============================] - 1s 105us/step - loss: 0.3378 - acc: 0.8606\n",
      "Epoch 82/100\n"
     ]
    },
    {
     "name": "stdout",
     "output_type": "stream",
     "text": [
      "8000/8000 [==============================] - 1s 103us/step - loss: 0.3376 - acc: 0.8624\n",
      "Epoch 83/100\n",
      "8000/8000 [==============================] - 1s 103us/step - loss: 0.3364 - acc: 0.8627\n",
      "Epoch 84/100\n",
      "8000/8000 [==============================] - 1s 103us/step - loss: 0.3373 - acc: 0.8594\n",
      "Epoch 85/100\n",
      "8000/8000 [==============================] - 1s 103us/step - loss: 0.3373 - acc: 0.8596\n",
      "Epoch 86/100\n",
      "8000/8000 [==============================] - 1s 102us/step - loss: 0.3371 - acc: 0.8615\n",
      "Epoch 87/100\n",
      "8000/8000 [==============================] - 1s 103us/step - loss: 0.3372 - acc: 0.8616\n",
      "Epoch 88/100\n",
      "8000/8000 [==============================] - 1s 102us/step - loss: 0.3359 - acc: 0.8622\n",
      "Epoch 89/100\n",
      "8000/8000 [==============================] - 1s 102us/step - loss: 0.3362 - acc: 0.8622\n",
      "Epoch 90/100\n",
      "8000/8000 [==============================] - 1s 102us/step - loss: 0.3361 - acc: 0.8607\n",
      "Epoch 91/100\n",
      "8000/8000 [==============================] - 1s 102us/step - loss: 0.3358 - acc: 0.8612\n",
      "Epoch 92/100\n",
      "8000/8000 [==============================] - 1s 105us/step - loss: 0.3365 - acc: 0.8631\n",
      "Epoch 93/100\n",
      "8000/8000 [==============================] - 1s 104us/step - loss: 0.3371 - acc: 0.8611\n",
      "Epoch 94/100\n",
      "8000/8000 [==============================] - 1s 103us/step - loss: 0.3363 - acc: 0.8601\n",
      "Epoch 95/100\n",
      "8000/8000 [==============================] - 1s 103us/step - loss: 0.3367 - acc: 0.8625\n",
      "Epoch 96/100\n",
      "8000/8000 [==============================] - 1s 103us/step - loss: 0.3361 - acc: 0.8605\n",
      "Epoch 97/100\n",
      "8000/8000 [==============================] - 1s 103us/step - loss: 0.3364 - acc: 0.8620\n",
      "Epoch 98/100\n",
      "8000/8000 [==============================] - 1s 103us/step - loss: 0.3358 - acc: 0.8610\n",
      "Epoch 99/100\n",
      "8000/8000 [==============================] - 1s 111us/step - loss: 0.3368 - acc: 0.8620\n",
      "Epoch 100/100\n",
      "8000/8000 [==============================] - 1s 111us/step - loss: 0.3368 - acc: 0.8606\n"
     ]
    },
    {
     "data": {
      "text/plain": [
       "<keras.callbacks.History at 0x1a38832470>"
      ]
     },
     "execution_count": 26,
     "metadata": {},
     "output_type": "execute_result"
    }
   ],
   "source": [
    "# Fitting thw ANN to the Training set\n",
    "classifier.fit(X_train,y_train,batch_size=10,nb_epoch=100)"
   ]
  },
  {
   "cell_type": "code",
   "execution_count": 27,
   "metadata": {},
   "outputs": [],
   "source": [
    "y_pred = classifier.predict(X_test)"
   ]
  },
  {
   "cell_type": "code",
   "execution_count": 29,
   "metadata": {},
   "outputs": [],
   "source": [
    "from sklearn.metrics import confusion_matrix,classification_report"
   ]
  },
  {
   "cell_type": "code",
   "execution_count": 32,
   "metadata": {},
   "outputs": [],
   "source": [
    "y_pred = y_pred > 0.5"
   ]
  },
  {
   "cell_type": "code",
   "execution_count": 33,
   "metadata": {},
   "outputs": [
    {
     "data": {
      "text/plain": [
       "array([[1510,   85],\n",
       "       [ 189,  216]])"
      ]
     },
     "execution_count": 33,
     "metadata": {},
     "output_type": "execute_result"
    }
   ],
   "source": [
    "confusion_matrix(y_test,y_pred)"
   ]
  },
  {
   "cell_type": "code",
   "execution_count": 34,
   "metadata": {},
   "outputs": [
    {
     "data": {
      "text/plain": [
       "'              precision    recall  f1-score   support\\n\\n           0       0.89      0.95      0.92      1595\\n           1       0.72      0.53      0.61       405\\n\\n   micro avg       0.86      0.86      0.86      2000\\n   macro avg       0.80      0.74      0.76      2000\\nweighted avg       0.85      0.86      0.86      2000\\n'"
      ]
     },
     "execution_count": 34,
     "metadata": {},
     "output_type": "execute_result"
    }
   ],
   "source": [
    "classification_report(y_test,y_pred)"
   ]
  },
  {
   "cell_type": "code",
   "execution_count": 36,
   "metadata": {},
   "outputs": [
    {
     "data": {
      "text/plain": [
       "0.863"
      ]
     },
     "execution_count": 36,
     "metadata": {},
     "output_type": "execute_result"
    }
   ],
   "source": [
    "(1510+216)/2000"
   ]
  },
  {
   "cell_type": "code",
   "execution_count": null,
   "metadata": {},
   "outputs": [],
   "source": []
  }
 ],
 "metadata": {
  "kernelspec": {
   "display_name": "Python 3",
   "language": "python",
   "name": "python3"
  },
  "language_info": {
   "codemirror_mode": {
    "name": "ipython",
    "version": 3
   },
   "file_extension": ".py",
   "mimetype": "text/x-python",
   "name": "python",
   "nbconvert_exporter": "python",
   "pygments_lexer": "ipython3",
   "version": "3.6.8"
  }
 },
 "nbformat": 4,
 "nbformat_minor": 2
}
